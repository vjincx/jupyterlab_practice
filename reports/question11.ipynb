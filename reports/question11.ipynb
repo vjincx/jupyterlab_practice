{
 "cells": [
  {
   "cell_type": "markdown",
   "id": "c53233c8-ca90-4d1e-b04e-5d580e66b5fb",
   "metadata": {},
   "source": [
    "# Vanessa Jin\n",
    "## Notebook for assignment 7"
   ]
  },
  {
   "cell_type": "code",
   "execution_count": 1,
   "id": "184ce6df-c1f4-4673-b577-e19b95b5da3b",
   "metadata": {},
   "outputs": [
    {
     "data": {
      "text/plain": [
       "5.0"
      ]
     },
     "execution_count": 1,
     "metadata": {},
     "output_type": "execute_result"
    }
   ],
   "source": [
    "def compute_mean(list):\n",
    "    sum = 0\n",
    "    mean = 0\n",
    "    for a in list:\n",
    "        sum = sum + a\n",
    "    mean = sum/len(list)\n",
    "    return mean\n",
    "\n",
    "compute_mean([2,4,6,8])"
   ]
  },
  {
   "cell_type": "markdown",
   "id": "1d772e0d-d795-4c85-9552-884c1e591c2f",
   "metadata": {},
   "source": [
    "The above function compute_mean computes the mean of a list, and the equation is like below:\n",
    "\n",
    "$\\bar{x} = \\frac{x_1 + x_2 + \\cdot\\cdot\\cdot + x_n}{n} = \\frac{1}{n}\\left (\\sum_{1}^{n} x_i\\right )$\n",
    "\n"
   ]
  },
  {
   "cell_type": "code",
   "execution_count": null,
   "id": "1cbc6384-bc3e-4811-8474-26fae16c8610",
   "metadata": {},
   "outputs": [],
   "source": []
  }
 ],
 "metadata": {
  "kernelspec": {
   "display_name": "Python 3 (ipykernel)",
   "language": "python",
   "name": "python3"
  },
  "language_info": {
   "codemirror_mode": {
    "name": "ipython",
    "version": 3
   },
   "file_extension": ".py",
   "mimetype": "text/x-python",
   "name": "python",
   "nbconvert_exporter": "python",
   "pygments_lexer": "ipython3",
   "version": "3.11.8"
  }
 },
 "nbformat": 4,
 "nbformat_minor": 5
}
